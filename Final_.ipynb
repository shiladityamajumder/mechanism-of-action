{
 "cells": [
  {
   "cell_type": "code",
   "execution_count": 18,
   "metadata": {
    "id": "uaj6pKwMiq18"
   },
   "outputs": [],
   "source": [
    "import pandas as pd\n",
    "import numpy as np\n",
    "import pickle\n",
    "from tensorflow.keras.models import load_model\n",
    "import warnings\n",
    "from sklearn.metrics import log_loss\n",
    "from tqdm import tqdm\n",
    "warnings.filterwarnings(\"ignore\")\n",
    "import numpy as np\n",
    "import pandas as pd \n",
    "import matplotlib.pyplot as plt\n",
    "from sklearn.model_selection import train_test_split\n",
    "from sklearn.model_selection import StratifiedKFold, KFold\n",
    "from sklearn import preprocessing\n",
    "from sklearn.metrics import confusion_matrix, mean_squared_error\n",
    "import tensorflow as tf\n",
    "from tensorflow.keras import layers,regularizers,Sequential,backend,callbacks,optimizers,metrics, Model,losses\n",
    "from sklearn.decomposition import PCA"
   ]
  },
  {
   "cell_type": "code",
   "execution_count": 19,
   "metadata": {
    "id": "XfsNYSUw9zuC"
   },
   "outputs": [],
   "source": [
    "# !unzip -q /content/gene_fet_auto_encd.zip\n",
    "# !unzip -q /content/cell_fet_auto_encd.zip"
   ]
  },
  {
   "cell_type": "code",
   "execution_count": 20,
   "metadata": {
    "id": "KDrDzXYSl0C-"
   },
   "outputs": [],
   "source": [
    "p_min = 0.0005\n",
    "p_max = 0.9995\n",
    "def logloss(y_true, y_pred):\n",
    "    y_pred = tf.clip_by_value(y_pred,p_min,p_max)\n",
    "    return -backend.mean(y_true*backend.log(y_pred) + (1-y_true)*backend.log(1-y_pred))"
   ]
  },
  {
   "cell_type": "code",
   "execution_count": 21,
   "metadata": {
    "id": "JBHigrKyiq2C"
   },
   "outputs": [],
   "source": [
    "def final_fun_1(test_features):\n",
    "    categorical = 'cp_dose'\n",
    "    le = pickle.load(open('labelencoder.pkl','rb'))\n",
    "    test_features[categorical] = le.transform(test_features[categorical])\n",
    "    \n",
    "    scaler = pickle.load(open('transform.pkl','rb'))\n",
    "    data_test = scaler.transform(test_features.drop('cp_type',axis=1).iloc[:,2:])\n",
    "\n",
    "    \n",
    "    std_scaler = pickle.load(open('standardscaler.pkl', 'rb'))\n",
    "    data_test =  np.concatenate((std_scaler.transform(test_features.drop('cp_type',axis=1).iloc[:,:2]),data_test),axis=1)\n",
    "    \n",
    "    c_f = test_features.drop('cp_type',axis=1).columns.str.contains('c-')  \n",
    "    cell_auto_encd = load_model('cell_fet_auto_encd')\n",
    "\n",
    "    cells_test = data_test[:,c_f]\n",
    "    ae_cells_test = cell_auto_encd.encoder(cells_test).numpy()\n",
    "\n",
    "    g_f = test_features.drop('cp_type',axis=1).columns.str.contains('g-')\n",
    "    gene_auto_encd = load_model('gene_fet_auto_encd')\n",
    "    \n",
    "    genes_test = data_test[:,g_f]\n",
    "    ae_genes_test = gene_auto_encd.encoder(genes_test).numpy()\n",
    "     \n",
    "    data_test = np.concatenate((data_test[:,~(c_f+g_f)],ae_genes_test,ae_cells_test),axis=1)\n",
    "   \n",
    "    dependencies = {'logloss': logloss}\n",
    "    # getting more features using auto-encoder\n",
    "    model = load_model('AutoEncoded_seed_18_fold_4.h5',custom_objects=dependencies)\n",
    "\n",
    "    # Run prediction\n",
    "    y_pred = model.predict(data_test)/(4*18)\n",
    "\n",
    "    columns = pickle.load(open('target_columns.pkl','rb'))\n",
    "    pred_data = pd.DataFrame(y_pred, columns = columns)\n",
    "\n",
    "    return pred_data"
   ]
  },
  {
   "cell_type": "code",
   "execution_count": 22,
   "metadata": {
    "id": "n8Umcsh2itRF"
   },
   "outputs": [],
   "source": [
    "# !pip3 install scikit-learn==0.22.2.post1"
   ]
  },
  {
   "cell_type": "code",
   "execution_count": 23,
   "metadata": {
    "id": "tqSP5jJjiq2C"
   },
   "outputs": [],
   "source": [
    "test = pd.read_csv('test_features - Copy.csv')\n",
    "test_copy = test.copy()\n",
    "test = test.drop(['sig_id'],axis=1)"
   ]
  },
  {
   "cell_type": "code",
   "execution_count": 24,
   "metadata": {
    "id": "hr_ftyJ84C4X"
   },
   "outputs": [],
   "source": [
    "#calling first function\n",
    "pred = final_fun_1(test)\n",
    "# print(pred)"
   ]
  },
  {
   "cell_type": "code",
   "execution_count": 25,
   "metadata": {
    "colab": {
     "base_uri": "https://localhost:8080/",
     "height": 270
    },
    "id": "9IUE5ODSiq2D",
    "outputId": "812398c2-3411-427c-c4d0-70a56006c61f"
   },
   "outputs": [],
   "source": [
    "# pred.insert(loc=0,column='sig_id',value = test_copy['sig_id'])\n",
    "# pred.head()\n",
    "pred.insert(loc=0,column='sig_id',value = test_copy['sig_id'])"
   ]
  },
  {
   "cell_type": "code",
   "execution_count": 26,
   "metadata": {},
   "outputs": [
    {
     "data": {
      "text/html": [
       "<div>\n",
       "<style scoped>\n",
       "    .dataframe tbody tr th:only-of-type {\n",
       "        vertical-align: middle;\n",
       "    }\n",
       "\n",
       "    .dataframe tbody tr th {\n",
       "        vertical-align: top;\n",
       "    }\n",
       "\n",
       "    .dataframe thead th {\n",
       "        text-align: right;\n",
       "    }\n",
       "</style>\n",
       "<table border=\"1\" class=\"dataframe\">\n",
       "  <thead>\n",
       "    <tr style=\"text-align: right;\">\n",
       "      <th></th>\n",
       "      <th>sig_id</th>\n",
       "      <th>5-alpha_reductase_inhibitor</th>\n",
       "      <th>11-beta-hsd1_inhibitor</th>\n",
       "      <th>acat_inhibitor</th>\n",
       "      <th>acetylcholine_receptor_agonist</th>\n",
       "      <th>acetylcholine_receptor_antagonist</th>\n",
       "      <th>acetylcholinesterase_inhibitor</th>\n",
       "      <th>adenosine_receptor_agonist</th>\n",
       "      <th>adenosine_receptor_antagonist</th>\n",
       "      <th>adenylyl_cyclase_activator</th>\n",
       "      <th>...</th>\n",
       "      <th>tropomyosin_receptor_kinase_inhibitor</th>\n",
       "      <th>trpv_agonist</th>\n",
       "      <th>trpv_antagonist</th>\n",
       "      <th>tubulin_inhibitor</th>\n",
       "      <th>tyrosine_kinase_inhibitor</th>\n",
       "      <th>ubiquitin_specific_protease_inhibitor</th>\n",
       "      <th>vegfr_inhibitor</th>\n",
       "      <th>vitamin_b</th>\n",
       "      <th>vitamin_d_receptor_agonist</th>\n",
       "      <th>wnt_inhibitor</th>\n",
       "    </tr>\n",
       "  </thead>\n",
       "  <tbody>\n",
       "    <tr>\n",
       "      <th>0</th>\n",
       "      <td>id_0004d9e33</td>\n",
       "      <td>0.000018</td>\n",
       "      <td>0.000014</td>\n",
       "      <td>0.000028</td>\n",
       "      <td>0.000078</td>\n",
       "      <td>0.000186</td>\n",
       "      <td>0.000026</td>\n",
       "      <td>0.000021</td>\n",
       "      <td>0.000034</td>\n",
       "      <td>0.000004</td>\n",
       "      <td>...</td>\n",
       "      <td>0.000013</td>\n",
       "      <td>0.000019</td>\n",
       "      <td>0.00004</td>\n",
       "      <td>0.000039</td>\n",
       "      <td>0.000019</td>\n",
       "      <td>0.000006</td>\n",
       "      <td>0.000007</td>\n",
       "      <td>0.000024</td>\n",
       "      <td>0.00001</td>\n",
       "      <td>0.000007</td>\n",
       "    </tr>\n",
       "  </tbody>\n",
       "</table>\n",
       "<p>1 rows × 207 columns</p>\n",
       "</div>"
      ],
      "text/plain": [
       "         sig_id  5-alpha_reductase_inhibitor  11-beta-hsd1_inhibitor  \\\n",
       "0  id_0004d9e33                     0.000018                0.000014   \n",
       "\n",
       "   acat_inhibitor  acetylcholine_receptor_agonist  \\\n",
       "0        0.000028                        0.000078   \n",
       "\n",
       "   acetylcholine_receptor_antagonist  acetylcholinesterase_inhibitor  \\\n",
       "0                           0.000186                        0.000026   \n",
       "\n",
       "   adenosine_receptor_agonist  adenosine_receptor_antagonist  \\\n",
       "0                    0.000021                       0.000034   \n",
       "\n",
       "   adenylyl_cyclase_activator  ...  tropomyosin_receptor_kinase_inhibitor  \\\n",
       "0                    0.000004  ...                               0.000013   \n",
       "\n",
       "   trpv_agonist  trpv_antagonist  tubulin_inhibitor  \\\n",
       "0      0.000019          0.00004           0.000039   \n",
       "\n",
       "   tyrosine_kinase_inhibitor  ubiquitin_specific_protease_inhibitor  \\\n",
       "0                   0.000019                               0.000006   \n",
       "\n",
       "   vegfr_inhibitor  vitamin_b  vitamin_d_receptor_agonist  wnt_inhibitor  \n",
       "0         0.000007   0.000024                     0.00001       0.000007  \n",
       "\n",
       "[1 rows x 207 columns]"
      ]
     },
     "execution_count": 26,
     "metadata": {},
     "output_type": "execute_result"
    }
   ],
   "source": [
    "pred.head()"
   ]
  },
  {
   "cell_type": "code",
   "execution_count": null,
   "metadata": {
    "id": "UleZtxdXiq2E"
   },
   "outputs": [],
   "source": [
    "pred.to_csv('final_csv.csv')"
   ]
  },
  {
   "cell_type": "markdown",
   "metadata": {
    "id": "Cui5Xg0y1TwV"
   },
   "source": [
    "## Deployment Video Link"
   ]
  },
  {
   "cell_type": "markdown",
   "metadata": {},
   "source": [
    "* https://drive.google.com/file/d/19pznBsglSZzQpk-eba7HAlwPChQDu8ZA/view?usp=sharing"
   ]
  },
  {
   "cell_type": "markdown",
   "metadata": {},
   "source": [
    "## Deployment Code"
   ]
  },
  {
   "cell_type": "code",
   "execution_count": null,
   "metadata": {},
   "outputs": [],
   "source": [
    "#importing libraries\n",
    "import pandas as pd\n",
    "import numpy as np\n",
    "import pickle\n",
    "from tensorflow.keras.models import load_model\n",
    "import warnings\n",
    "from sklearn.metrics import log_loss\n",
    "from tqdm import tqdm\n",
    "warnings.filterwarnings(\"ignore\")\n",
    "import numpy as np\n",
    "import pandas as pd \n",
    "import matplotlib.pyplot as plt\n",
    "from sklearn.model_selection import train_test_split\n",
    "from sklearn.model_selection import StratifiedKFold, KFold\n",
    "from sklearn import preprocessing\n",
    "from sklearn.metrics import confusion_matrix, mean_squared_error\n",
    "import tensorflow as tf\n",
    "from tensorflow.keras import layers,regularizers,Sequential,backend,callbacks,optimizers,metrics, Model,losses\n",
    "from sklearn.decomposition import PCA\n",
    "from flask import Flask, request, render_template, send_file\n",
    "import zipfile\n",
    "\n",
    "app = Flask(__name__)\n",
    "\n",
    "#loading preprocessed files\n",
    "columns = pickle.load(open('target_columns.pkl','rb'))\n",
    "\n",
    "@app.route(\"/\")\n",
    "def home():\n",
    "    return render_template('index.html')\n",
    "\n",
    "@app.route('/predict_moa', methods = ['GET','POST'])\n",
    "def predict_moa():\n",
    "    try:\n",
    "\n",
    "        file = request.files['search_file']\n",
    "        test_features = pd.read_csv(file, header=0)\n",
    "        test_copy = test_features.copy()\n",
    "        test_features = test_features.drop(['sig_id'],axis=1)\n",
    "\n",
    "        p_min = 0.0005\n",
    "        p_max = 0.9995\n",
    "        def logloss(y_true, y_pred):\n",
    "            y_pred = tf.clip_by_value(y_pred,p_min,p_max)\n",
    "            return -backend.mean(y_true*backend.log(y_pred) + (1-y_true)*backend.log(1-y_pred))\n",
    "\n",
    "        categorical = 'cp_dose'\n",
    "        le = pickle.load(open('labelencoder.pkl','rb'))\n",
    "        test_features[categorical] = le.transform(test_features[categorical])\n",
    "    \n",
    "        scaler = pickle.load(open('transform.pkl','rb'))\n",
    "        data_test = scaler.transform(test_features.drop('cp_type',axis=1).iloc[:,2:])\n",
    "\n",
    "        std_scaler = pickle.load(open('standardscaler.pkl', 'rb'))\n",
    "        data_test =  np.concatenate((std_scaler.transform(test_features.drop('cp_type',axis=1).iloc[:,:2]),data_test),axis=1)\n",
    "        \n",
    "        c_f = test_features.drop('cp_type',axis=1).columns.str.contains('c-')  \n",
    "        cell_auto_encd = load_model('cell_fet_auto_encd')\n",
    "\n",
    "        cells_test = data_test[:,c_f]\n",
    "        ae_cells_test = cell_auto_encd.encoder(cells_test).numpy()\n",
    "\n",
    "        g_f = test_features.drop('cp_type',axis=1).columns.str.contains('g-')\n",
    "        gene_auto_encd = load_model('gene_fet_auto_encd')\n",
    "        \n",
    "        genes_test = data_test[:,g_f]\n",
    "        ae_genes_test = gene_auto_encd.encoder(genes_test).numpy()\n",
    "        \n",
    "        data_test = np.concatenate((data_test[:,~(c_f+g_f)],ae_genes_test,ae_cells_test),axis=1)\n",
    "    \n",
    "        dependencies = {'logloss': logloss}\n",
    "        # getting more features using auto-encoder\n",
    "        model = load_model('AutoEncoded_seed_18_fold_4.h5',custom_objects=dependencies)\n",
    "\n",
    "        # Run prediction\n",
    "        y_pred = model.predict(data_test)/(4*18)\n",
    "\n",
    "        columns = pickle.load(open('target_columns.pkl','rb'))\n",
    "        pred_data = pd.DataFrame(y_pred, columns = columns)\n",
    "        \n",
    "\n",
    "        pred_data.insert(loc=0,column='sig_id',value = test_copy['sig_id'])\n",
    "        pred_data.to_csv('final_csv.csv')\n",
    "        #zipping prediction and probability prediction\n",
    "        # zipf = zipfile.ZipFile('Predictions.zip','w', zipfile.ZIP_DEFLATED)\n",
    "        # zipf.write('pred_data.csv')\n",
    "        # zipf.write('pred_prob_data.csv')\n",
    "        # zipf.close()\n",
    "        \n",
    "        return send_file('final_csv.csv', mimetype='csv', as_attachment=True, attachment_filename='moa_final.csv')\n",
    "\n",
    "    #if file is not same as in instruction then exception will be thrown\n",
    "    except Exception as e:\n",
    "        # print('The Exception message is: ',e)\n",
    "        return render_template('index.html',error=e)\n",
    "\n",
    "@app.route('/Important Instructions')\n",
    "def imp_instruction():\n",
    "    return render_template('instruction.html')\n",
    "\n",
    "@app.route('/download')\n",
    "def download_file():\n",
    "    return send_file('sample_input.csv', as_attachment=True)\n",
    "\n",
    "if __name__ == '__main__':\n",
    "    app.run(debug=True)"
   ]
  },
  {
   "cell_type": "code",
   "execution_count": null,
   "metadata": {},
   "outputs": [],
   "source": []
  }
 ],
 "metadata": {
  "colab": {
   "collapsed_sections": [],
   "name": "Final .ipynb",
   "provenance": []
  },
  "kernelspec": {
   "display_name": "Python 3",
   "language": "python",
   "name": "python3"
  },
  "language_info": {
   "codemirror_mode": {
    "name": "ipython",
    "version": 3
   },
   "file_extension": ".py",
   "mimetype": "text/x-python",
   "name": "python",
   "nbconvert_exporter": "python",
   "pygments_lexer": "ipython3",
   "version": "3.6.5"
  }
 },
 "nbformat": 4,
 "nbformat_minor": 1
}
