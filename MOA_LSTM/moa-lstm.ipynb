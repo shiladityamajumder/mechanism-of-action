{
 "cells": [
  {
   "cell_type": "markdown",
   "metadata": {
    "papermill": {
     "duration": 0.015413,
     "end_time": "2021-04-08T06:44:20.825737",
     "exception": false,
     "start_time": "2021-04-08T06:44:20.810324",
     "status": "completed"
    },
    "tags": []
   },
   "source": [
    "# MoA LSTM"
   ]
  },
  {
   "cell_type": "code",
   "execution_count": 1,
   "metadata": {
    "execution": {
     "iopub.execute_input": "2021-04-08T06:44:20.860444Z",
     "iopub.status.busy": "2021-04-08T06:44:20.858779Z",
     "iopub.status.idle": "2021-04-08T06:44:20.863958Z",
     "shell.execute_reply": "2021-04-08T06:44:20.863324Z"
    },
    "papermill": {
     "duration": 0.023859,
     "end_time": "2021-04-08T06:44:20.864123",
     "exception": false,
     "start_time": "2021-04-08T06:44:20.840264",
     "status": "completed"
    },
    "tags": []
   },
   "outputs": [],
   "source": [
    "TYPE = 'Transformer' # 'LSTM'"
   ]
  },
  {
   "cell_type": "code",
   "execution_count": 2,
   "metadata": {
    "_cell_guid": "b1076dfc-b9ad-4769-8c92-a6c4dae69d19",
    "_uuid": "8f2839f25d086af736a60e9eeb907d3b93b6e0e5",
    "execution": {
     "iopub.execute_input": "2021-04-08T06:44:20.896149Z",
     "iopub.status.busy": "2021-04-08T06:44:20.895200Z",
     "iopub.status.idle": "2021-04-08T06:44:27.842567Z",
     "shell.execute_reply": "2021-04-08T06:44:27.841894Z"
    },
    "id": "kw1VW6DCvgSq",
    "outputId": "030d81e0-579d-463d-b2ed-6c714151a063",
    "papermill": {
     "duration": 6.964315,
     "end_time": "2021-04-08T06:44:27.842724",
     "exception": false,
     "start_time": "2021-04-08T06:44:20.878409",
     "status": "completed"
    },
    "tags": []
   },
   "outputs": [
    {
     "name": "stdout",
     "output_type": "stream",
     "text": [
      "Tensorflow version 2.4.1\n"
     ]
    }
   ],
   "source": [
    "import warnings\n",
    "warnings.filterwarnings(\"ignore\")\n",
    "\n",
    "import sys\n",
    "sys.path.append('../input/iterative-stratification/iterative-stratification-master')\n",
    "from iterstrat.ml_stratifiers import MultilabelStratifiedKFold\n",
    "\n",
    "import os\n",
    "import gc\n",
    "import datetime\n",
    "import numpy as np\n",
    "import pandas as pd\n",
    "import tensorflow as tf\n",
    "tf.random.set_seed(42)\n",
    "import tensorflow.keras.backend as K\n",
    "import tensorflow.keras.layers as L\n",
    "import tensorflow.keras.models as M\n",
    "from tensorflow.keras.callbacks import ReduceLROnPlateau, ModelCheckpoint, EarlyStopping\n",
    "import tensorflow_addons as tfa\n",
    "from sklearn.preprocessing import StandardScaler\n",
    "from sklearn.model_selection import KFold, StratifiedKFold\n",
    "from sklearn.metrics import log_loss\n",
    "from scipy.optimize import minimize\n",
    "from tqdm.notebook import tqdm\n",
    "from time import time\n",
    "\n",
    "print(\"Tensorflow version \" + tf.__version__)\n",
    "AUTO = tf.data.experimental.AUTOTUNE"
   ]
  },
  {
   "cell_type": "code",
   "execution_count": 3,
   "metadata": {
    "execution": {
     "iopub.execute_input": "2021-04-08T06:44:27.879210Z",
     "iopub.status.busy": "2021-04-08T06:44:27.878485Z",
     "iopub.status.idle": "2021-04-08T06:44:27.881882Z",
     "shell.execute_reply": "2021-04-08T06:44:27.882366Z"
    },
    "papermill": {
     "duration": 0.024898,
     "end_time": "2021-04-08T06:44:27.882548",
     "exception": false,
     "start_time": "2021-04-08T06:44:27.857650",
     "status": "completed"
    },
    "tags": []
   },
   "outputs": [
    {
     "name": "stdout",
     "output_type": "stream",
     "text": [
      "Accelerated Linear Algebra enabled\n"
     ]
    }
   ],
   "source": [
    "MIXED_PRECISION = False\n",
    "XLA_ACCELERATE = True\n",
    "\n",
    "if MIXED_PRECISION:\n",
    "    from tensorflow.keras.mixed_precision import experimental as mixed_precision\n",
    "    if tpu: policy = tf.keras.mixed_precision.experimental.Policy('mixed_bfloat16')\n",
    "    else: policy = tf.keras.mixed_precision.experimental.Policy('mixed_float16')\n",
    "    mixed_precision.set_policy(policy)\n",
    "    print('Mixed precision enabled')\n",
    "\n",
    "if XLA_ACCELERATE:\n",
    "    tf.config.optimizer.set_jit(True)\n",
    "    print('Accelerated Linear Algebra enabled')"
   ]
  },
  {
   "cell_type": "markdown",
   "metadata": {
    "id": "dSVuPpi2vgSv",
    "papermill": {
     "duration": 0.014466,
     "end_time": "2021-04-08T06:44:27.911848",
     "exception": false,
     "start_time": "2021-04-08T06:44:27.897382",
     "status": "completed"
    },
    "tags": []
   },
   "source": [
    "# Data Preparation"
   ]
  },
  {
   "cell_type": "code",
   "execution_count": 4,
   "metadata": {
    "_cell_guid": "79c7e3d0-c299-4dcb-8224-4455121ee9b0",
    "_uuid": "d629ff2d2480ee46fbb7e2d37f6b5fab8052498a",
    "execution": {
     "iopub.execute_input": "2021-04-08T06:44:27.947374Z",
     "iopub.status.busy": "2021-04-08T06:44:27.946561Z",
     "iopub.status.idle": "2021-04-08T06:44:35.499780Z",
     "shell.execute_reply": "2021-04-08T06:44:35.499143Z"
    },
    "id": "UvG3N1HHvgSv",
    "papermill": {
     "duration": 7.573429,
     "end_time": "2021-04-08T06:44:35.499923",
     "exception": false,
     "start_time": "2021-04-08T06:44:27.926494",
     "status": "completed"
    },
    "tags": []
   },
   "outputs": [],
   "source": [
    "train_features = pd.read_csv('../input/lish-moa/train_features.csv')\n",
    "train_targets = pd.read_csv('../input/lish-moa/train_targets_scored.csv')\n",
    "test_features = pd.read_csv('../input/lish-moa/test_features.csv')\n",
    "\n",
    "ss = pd.read_csv('../input/lish-moa/sample_submission.csv')\n",
    "\n",
    "cols = [c for c in ss.columns.values if c != 'sig_id']"
   ]
  },
  {
   "cell_type": "code",
   "execution_count": 5,
   "metadata": {
    "execution": {
     "iopub.execute_input": "2021-04-08T06:44:35.546995Z",
     "iopub.status.busy": "2021-04-08T06:44:35.545884Z",
     "iopub.status.idle": "2021-04-08T06:44:35.570561Z",
     "shell.execute_reply": "2021-04-08T06:44:35.570009Z"
    },
    "id": "JItYfC6jvgSy",
    "papermill": {
     "duration": 0.055949,
     "end_time": "2021-04-08T06:44:35.570721",
     "exception": false,
     "start_time": "2021-04-08T06:44:35.514772",
     "status": "completed"
    },
    "tags": []
   },
   "outputs": [],
   "source": [
    "def preprocess(df):\n",
    "    df.loc[:, 'cp_type'] = df.loc[:, 'cp_type'].map({'trt_cp': 0, 'ctl_vehicle': 1})\n",
    "    df.loc[:, 'cp_dose'] = df.loc[:, 'cp_dose'].map({'D1': 0, 'D2': 1})\n",
    "    del df['sig_id']\n",
    "    return df\n",
    "\n",
    "def log_loss_metric(y_true, y_pred):\n",
    "    metrics = []\n",
    "    for _target in range(len(train_targets.columns)):\n",
    "        metrics.append(log_loss(y_true.values[:, _target], y_pred[:, _target], labels = [0,1]))\n",
    "    return np.mean(metrics)\n",
    "\n",
    "train = preprocess(train_features)\n",
    "test = preprocess(test_features)\n",
    "\n",
    "del train_targets['sig_id']"
   ]
  },
  {
   "cell_type": "code",
   "execution_count": 6,
   "metadata": {
    "_kg_hide-input": true,
    "execution": {
     "iopub.execute_input": "2021-04-08T06:44:35.619697Z",
     "iopub.status.busy": "2021-04-08T06:44:35.614334Z",
     "iopub.status.idle": "2021-04-08T06:44:35.640874Z",
     "shell.execute_reply": "2021-04-08T06:44:35.640121Z"
    },
    "id": "Cg0gF9u5vgS1",
    "outputId": "2dcd7162-6e0e-427c-cfc0-9e36329cd8a2",
    "papermill": {
     "duration": 0.05537,
     "end_time": "2021-04-08T06:44:35.641073",
     "exception": false,
     "start_time": "2021-04-08T06:44:35.585703",
     "status": "completed"
    },
    "tags": []
   },
   "outputs": [
    {
     "name": "stdout",
     "output_type": "stream",
     "text": [
      "696\n"
     ]
    }
   ],
   "source": [
    "top_feats = [  0,   1,   2,   3,   5,   6,   8,   9,  10,  11,  12,  14,  15,\n",
    "        16,  18,  19,  20,  21,  23,  24,  25,  27,  28,  29,  30,  31,\n",
    "        32,  33,  34,  35,  36,  37,  39,  40,  41,  42,  44,  45,  46,\n",
    "        48,  50,  51,  52,  53,  54,  55,  56,  57,  58,  59,  60,  61,\n",
    "        63,  64,  65,  66,  68,  69,  70,  71,  72,  73,  74,  75,  76,\n",
    "        78,  79,  80,  81,  82,  83,  84,  86,  87,  88,  89,  90,  92,\n",
    "        93,  94,  95,  96,  97,  99, 100, 101, 103, 104, 105, 106, 107,\n",
    "       108, 109, 110, 111, 112, 113, 114, 115, 116, 117, 118, 119, 120,\n",
    "       121, 122, 123, 124, 125, 126, 127, 128, 129, 130, 132, 133, 134,\n",
    "       135, 136, 137, 138, 139, 140, 141, 142, 143, 144, 145, 146, 147,\n",
    "       149, 150, 151, 152, 153, 154, 155, 157, 159, 160, 161, 163, 164,\n",
    "       165, 166, 167, 168, 169, 170, 172, 173, 175, 176, 177, 178, 180,\n",
    "       181, 182, 183, 184, 186, 187, 188, 189, 190, 191, 192, 193, 195,\n",
    "       197, 198, 199, 202, 203, 205, 206, 208, 209, 210, 211, 212, 213,\n",
    "       214, 215, 218, 219, 220, 221, 222, 224, 225, 227, 228, 229, 230,\n",
    "       231, 232, 233, 234, 236, 238, 239, 240, 241, 242, 243, 244, 245,\n",
    "       246, 248, 249, 250, 251, 253, 254, 255, 256, 257, 258, 259, 260,\n",
    "       261, 263, 265, 266, 268, 270, 271, 272, 273, 275, 276, 277, 279,\n",
    "       282, 283, 286, 287, 288, 289, 290, 294, 295, 296, 297, 299, 300,\n",
    "       301, 302, 303, 304, 305, 306, 308, 309, 310, 311, 312, 313, 315,\n",
    "       316, 317, 320, 321, 322, 324, 325, 326, 327, 328, 329, 330, 331,\n",
    "       332, 333, 334, 335, 338, 339, 340, 341, 343, 344, 345, 346, 347,\n",
    "       349, 350, 351, 352, 353, 355, 356, 357, 358, 359, 360, 361, 362,\n",
    "       363, 364, 365, 366, 368, 369, 370, 371, 372, 374, 375, 376, 377,\n",
    "       378, 379, 380, 382, 383, 384, 385, 386, 387, 388, 389, 390, 391,\n",
    "       392, 393, 394, 395, 397, 398, 399, 400, 401, 403, 405, 406, 407,\n",
    "       408, 410, 411, 412, 413, 414, 415, 417, 418, 419, 420, 421, 422,\n",
    "       423, 424, 425, 426, 427, 428, 429, 430, 431, 432, 433, 434, 435,\n",
    "       436, 437, 438, 441, 442, 443, 444, 445, 446, 447, 448, 449, 450,\n",
    "       452, 453, 454, 456, 457, 458, 459, 460, 461, 462, 463, 464, 465,\n",
    "       466, 468, 469, 471, 472, 473, 474, 475, 476, 477, 478, 479, 482,\n",
    "       483, 485, 486, 487, 488, 489, 491, 492, 494, 495, 496, 500, 501,\n",
    "       502, 503, 505, 506, 507, 509, 510, 511, 512, 513, 514, 516, 517,\n",
    "       518, 519, 521, 523, 525, 526, 527, 528, 529, 530, 531, 532, 533,\n",
    "       534, 536, 537, 538, 539, 540, 541, 542, 543, 544, 545, 546, 547,\n",
    "       549, 550, 553, 554, 555, 556, 557, 558, 559, 560, 561, 562, 563,\n",
    "       564, 565, 566, 567, 569, 570, 571, 572, 573, 574, 575, 577, 580,\n",
    "       581, 582, 583, 586, 587, 590, 591, 592, 593, 595, 596, 597, 598,\n",
    "       599, 600, 601, 602, 603, 605, 607, 608, 609, 611, 612, 613, 614,\n",
    "       615, 616, 617, 619, 622, 623, 625, 627, 630, 631, 632, 633, 634,\n",
    "       635, 637, 638, 639, 642, 643, 644, 645, 646, 647, 649, 650, 651,\n",
    "       652, 654, 655, 658, 659, 660, 661, 662, 663, 664, 666, 667, 668,\n",
    "       669, 670, 672, 674, 675, 676, 677, 678, 680, 681, 682, 684, 685,\n",
    "       686, 687, 688, 689, 691, 692, 694, 695, 696, 697, 699, 700, 701,\n",
    "       702, 703, 704, 705, 707, 708, 709, 711, 712, 713, 714, 715, 716,\n",
    "       717, 723, 725, 727, 728, 729, 730, 731, 732, 734, 736, 737, 738,\n",
    "       739, 740, 741, 742, 743, 744, 745, 746, 747, 748, 749, 750, 751,\n",
    "       752, 753, 754, 755, 756, 758, 759, 760, 761, 762, 763, 764, 765,\n",
    "       766, 767, 769, 770, 771, 772, 774, 775, 780, 781, 782, 783, 784,\n",
    "       785, 787, 788, 790, 793, 795, 797, 799, 800, 801, 805, 808, 809,\n",
    "       811, 812, 813, 816, 819, 820, 821, 822, 823, 825, 826, 827, 829,\n",
    "       831, 832, 833, 834, 835, 837, 838, 839, 840, 841, 842, 844, 845,\n",
    "       846, 847, 848, 850, 851, 852, 854, 855, 856, 858, 860, 861, 862,\n",
    "       864, 867, 868, 870, 871, 873, 874]\n",
    "print(len(top_feats))"
   ]
  },
  {
   "cell_type": "markdown",
   "metadata": {
    "papermill": {
     "duration": 0.014695,
     "end_time": "2021-04-08T06:44:35.671640",
     "exception": false,
     "start_time": "2021-04-08T06:44:35.656945",
     "status": "completed"
    },
    "tags": []
   },
   "source": [
    "# Model Functions\n",
    "\n",
    "Base Transformer structure from https://www.tensorflow.org/tutorials/text/transformer, modified with gelu activation function. No positional embedding is needed so I remove it and then changes the embedding layer to dense layer."
   ]
  },
  {
   "cell_type": "code",
   "execution_count": 7,
   "metadata": {
    "_kg_hide-input": true,
    "execution": {
     "iopub.execute_input": "2021-04-08T06:44:35.716230Z",
     "iopub.status.busy": "2021-04-08T06:44:35.705454Z",
     "iopub.status.idle": "2021-04-08T06:44:35.736493Z",
     "shell.execute_reply": "2021-04-08T06:44:35.735824Z"
    },
    "papermill": {
     "duration": 0.049771,
     "end_time": "2021-04-08T06:44:35.736632",
     "exception": false,
     "start_time": "2021-04-08T06:44:35.686861",
     "status": "completed"
    },
    "tags": []
   },
   "outputs": [],
   "source": [
    "def scaled_dot_product_attention(q, k, v, mask):\n",
    "    \"\"\"Calculate the attention weights.\n",
    "    q, k, v must have matching leading dimensions.\n",
    "    k, v must have matching penultimate dimension, i.e.: seq_len_k = seq_len_v.\n",
    "    The mask has different shapes depending on its type(padding or look ahead) \n",
    "    but it must be broadcastable for addition.\n",
    "\n",
    "    Args:\n",
    "    q: query shape == (..., seq_len_q, depth)\n",
    "    k: key shape == (..., seq_len_k, depth)\n",
    "    v: value shape == (..., seq_len_v, depth_v)\n",
    "    mask: Float tensor with shape broadcastable \n",
    "          to (..., seq_len_q, seq_len_k). Defaults to None.\n",
    "\n",
    "    Returns:\n",
    "    output, attention_weights\n",
    "    \"\"\"\n",
    "\n",
    "    matmul_qk = tf.matmul(q, k, transpose_b = True)  # (..., seq_len_q, seq_len_k)\n",
    "\n",
    "    # scale matmul_qk\n",
    "    dk = tf.cast(tf.shape(k)[-1], tf.float32)\n",
    "    scaled_attention_logits = matmul_qk / tf.math.sqrt(dk)\n",
    "\n",
    "    # add the mask to the scaled tensor.\n",
    "    if mask is not None:\n",
    "        \n",
    "        scaled_attention_logits += (mask * -1e9)  \n",
    "\n",
    "    # softmax is normalized on the last axis (seq_len_k) so that the scores\n",
    "    # add up to 1.\n",
    "    attention_weights = tf.nn.softmax(scaled_attention_logits, axis = -1)  # (..., seq_len_q, seq_len_k)\n",
    "\n",
    "    output = tf.matmul(attention_weights, v)  # (..., seq_len_q, depth_v)\n",
    "\n",
    "    return output, attention_weights\n",
    "\n",
    "class MultiHeadAttention(tf.keras.layers.Layer):\n",
    "    \n",
    "    def __init__(self, d_model, num_heads):\n",
    "        \n",
    "        super(MultiHeadAttention, self).__init__()\n",
    "        self.num_heads = num_heads\n",
    "        self.d_model = d_model\n",
    "\n",
    "        assert d_model % self.num_heads == 0\n",
    "\n",
    "        self.depth = d_model // self.num_heads\n",
    "\n",
    "        self.wq = tf.keras.layers.Dense(d_model)\n",
    "        self.wk = tf.keras.layers.Dense(d_model)\n",
    "        self.wv = tf.keras.layers.Dense(d_model)\n",
    "\n",
    "        self.dense = tf.keras.layers.Dense(d_model)\n",
    "        \n",
    "    def split_heads(self, x, batch_size):\n",
    "        \"\"\"Split the last dimension into (num_heads, depth).\n",
    "        Transpose the result such that the shape is (batch_size, num_heads, seq_len, depth)\n",
    "        \"\"\"\n",
    "        x = tf.reshape(x, (batch_size, -1, self.num_heads, self.depth))\n",
    "        return tf.transpose(x, perm = [0, 2, 1, 3])\n",
    "    \n",
    "    def call(self, v, k, q, mask):\n",
    "        \n",
    "        batch_size = tf.shape(q)[0]\n",
    "\n",
    "        q = self.wq(q)  # (batch_size, seq_len, d_model)\n",
    "        k = self.wk(k)  # (batch_size, seq_len, d_model)\n",
    "        v = self.wv(v)  # (batch_size, seq_len, d_model)\n",
    "\n",
    "        q = self.split_heads(q, batch_size)  # (batch_size, num_heads, seq_len_q, depth)\n",
    "        k = self.split_heads(k, batch_size)  # (batch_size, num_heads, seq_len_k, depth)\n",
    "        v = self.split_heads(v, batch_size)  # (batch_size, num_heads, seq_len_v, depth)\n",
    "\n",
    "        # scaled_attention.shape == (batch_size, num_heads, seq_len_q, depth)\n",
    "        # attention_weights.shape == (batch_size, num_heads, seq_len_q, seq_len_k)\n",
    "        scaled_attention, attention_weights = scaled_dot_product_attention(\n",
    "            q, k, v, mask)\n",
    "\n",
    "        scaled_attention = tf.transpose(scaled_attention, perm = [0, 2, 1, 3])  # (batch_size, seq_len_q, num_heads, depth)\n",
    "\n",
    "        concat_attention = tf.reshape(scaled_attention, \n",
    "                                      (batch_size, -1, self.d_model))  # (batch_size, seq_len_q, d_model)\n",
    "\n",
    "        output = self.dense(concat_attention)  # (batch_size, seq_len_q, d_model)\n",
    "        \n",
    "        return output, attention_weights\n",
    "    \n",
    "def gelu(x):\n",
    "    \"\"\"Gaussian Error Linear Unit.\n",
    "    This is a smoother version of the RELU.\n",
    "    Original paper: https://arxiv.org/abs/1606.08415\n",
    "    refer : https://github.com/google-research/bert/blob/bee6030e31e42a9394ac567da170a89a98d2062f/modeling.py#L264\n",
    "    Args:\n",
    "        x: float Tensor to perform activation.\n",
    "    Returns:\n",
    "        `x` with the GELU activation applied.\n",
    "    \"\"\"\n",
    "    cdf = 0.5 * (1.0 + tf.tanh(\n",
    "        (np.sqrt(2 / np.pi) * (x + 0.044715 * tf.pow(x, 3)))))\n",
    "    return x * cdf\n",
    "\n",
    "def point_wise_feed_forward_network(d_model, dff):\n",
    "    \n",
    "    return tf.keras.Sequential([\n",
    "      tf.keras.layers.Dense(dff, activation = gelu),  # (batch_size, seq_len, dff)\n",
    "      tf.keras.layers.Dense(d_model)  # (batch_size, seq_len, d_model)\n",
    "    ])\n",
    "\n",
    "class EncoderLayer(tf.keras.layers.Layer):\n",
    "    \n",
    "    def __init__(self, d_model, num_heads, dff, rate = 0.1):\n",
    "        \n",
    "        super(EncoderLayer, self).__init__()\n",
    "\n",
    "        self.mha = MultiHeadAttention(d_model, num_heads)\n",
    "        self.ffn = point_wise_feed_forward_network(d_model, dff)\n",
    "\n",
    "        self.layernorm1 = tf.keras.layers.LayerNormalization(epsilon = 1e-6)\n",
    "        self.layernorm2 = tf.keras.layers.LayerNormalization(epsilon = 1e-6)\n",
    "\n",
    "        self.dropout1 = tf.keras.layers.Dropout(rate)\n",
    "        self.dropout2 = tf.keras.layers.Dropout(rate)\n",
    "\n",
    "    def call(self, x, training, mask):\n",
    "\n",
    "        attn_output, _ = self.mha(x, x, x, mask)  # (batch_size, input_seq_len, d_model)\n",
    "        attn_output = self.dropout1(attn_output, training = training)\n",
    "        out1 = self.layernorm1(x + attn_output)  # (batch_size, input_seq_len, d_model)\n",
    "\n",
    "        ffn_output = self.ffn(out1)  # (batch_size, input_seq_len, d_model)\n",
    "        ffn_output = self.dropout2(ffn_output, training = training)\n",
    "        out2 = self.layernorm2(out1 + ffn_output)  # (batch_size, input_seq_len, d_model)\n",
    "\n",
    "        return out2\n",
    "\n",
    "class TransformerEncoder(tf.keras.layers.Layer):\n",
    "    \n",
    "    def __init__(self, num_layers, d_model, num_heads, dff, rate = 0.1):\n",
    "        \n",
    "        super(TransformerEncoder, self).__init__()\n",
    "\n",
    "        self.d_model = d_model\n",
    "        self.num_layers = num_layers\n",
    "        self.num_heads = num_heads\n",
    "        self.dff = dff\n",
    "        self.rate = rate\n",
    "\n",
    "        self.embedding = tf.keras.layers.Dense(self.d_model)\n",
    "\n",
    "        self.enc_layers = [EncoderLayer(self.d_model, self.num_heads, self.dff, self.rate) \n",
    "                           for _ in range(self.num_layers)]\n",
    "\n",
    "        self.dropout = tf.keras.layers.Dropout(self.rate)\n",
    "        \n",
    "    def get_config(self):\n",
    "\n",
    "        config = super().get_config().copy()\n",
    "        config.update({\n",
    "            'num_layers': self.num_layers,\n",
    "            'd_model': self.d_model,\n",
    "            'num_heads': self.num_heads,\n",
    "            'dff': self.dff,\n",
    "            'dropout': self.dropout,\n",
    "        })\n",
    "        return config\n",
    "\n",
    "    def call(self, x, training, mask = None):\n",
    "\n",
    "        seq_len = tf.shape(x)[1]\n",
    "\n",
    "        x = self.embedding(x)\n",
    "\n",
    "        x = self.dropout(x, training = training)\n",
    "\n",
    "        for i in range(self.num_layers):\n",
    "\n",
    "            x = self.enc_layers[i](x, training, mask)\n",
    "\n",
    "        return x  # (batch_size, input_seq_len, d_model)"
   ]
  },
  {
   "cell_type": "markdown",
   "metadata": {
    "id": "0eDJ68r-vgTA",
    "papermill": {
     "duration": 0.014939,
     "end_time": "2021-04-08T06:44:35.766785",
     "exception": false,
     "start_time": "2021-04-08T06:44:35.751846",
     "status": "completed"
    },
    "tags": []
   },
   "source": [
    "# Create Model"
   ]
  },
  {
   "cell_type": "code",
   "execution_count": 8,
   "metadata": {
    "execution": {
     "iopub.execute_input": "2021-04-08T06:44:35.807861Z",
     "iopub.status.busy": "2021-04-08T06:44:35.807156Z",
     "iopub.status.idle": "2021-04-08T06:44:35.810306Z",
     "shell.execute_reply": "2021-04-08T06:44:35.809683Z"
    },
    "papermill": {
     "duration": 0.028566,
     "end_time": "2021-04-08T06:44:35.810441",
     "exception": false,
     "start_time": "2021-04-08T06:44:35.781875",
     "status": "completed"
    },
    "tags": []
   },
   "outputs": [],
   "source": [
    "def create_RNN(num_columns, hidden_units, dropout_rate, learning_rate):\n",
    "    \n",
    "    inp = tf.keras.layers.Input(shape = (num_columns, ))\n",
    "    x = tf.keras.layers.Reshape((1, num_columns))(inp)\n",
    "    \n",
    "    for i, units in enumerate(hidden_units[:-1]):\n",
    "        if i == 0: \n",
    "            x, h, c = tf.keras.layers.LSTM(units, dropout = dropout_rate, return_sequences = True, return_state = True)(x) \n",
    "        else:\n",
    "            x, h, c = tf.keras.layers.LSTM(units, dropout = dropout_rate, return_sequences = True, return_state = True)(x, initial_state = [h, c])\n",
    "        \n",
    "    x = tf.keras.layers.LSTM(hidden_units[-1], dropout = dropout_rate)(x, initial_state = [h, c])\n",
    "    \n",
    "    x = tf.keras.layers.BatchNormalization()(x)\n",
    "        \n",
    "    out = tfa.layers.WeightNormalization(tf.keras.layers.Dense(206, activation = 'sigmoid'))(x)\n",
    "    \n",
    "    model = tf.keras.models.Model(inputs = inp, outputs = out)\n",
    "    \n",
    "    model.compile(optimizer = tfa.optimizers.Lookahead(tf.optimizers.Adam(learning_rate), sync_period = 10), \n",
    "                  loss = 'binary_crossentropy')\n",
    "    \n",
    "    return model"
   ]
  },
  {
   "cell_type": "code",
   "execution_count": 9,
   "metadata": {
    "execution": {
     "iopub.execute_input": "2021-04-08T06:44:35.849555Z",
     "iopub.status.busy": "2021-04-08T06:44:35.848869Z",
     "iopub.status.idle": "2021-04-08T06:44:35.851669Z",
     "shell.execute_reply": "2021-04-08T06:44:35.852197Z"
    },
    "papermill": {
     "duration": 0.026496,
     "end_time": "2021-04-08T06:44:35.852370",
     "exception": false,
     "start_time": "2021-04-08T06:44:35.825874",
     "status": "completed"
    },
    "tags": []
   },
   "outputs": [],
   "source": [
    "def create_Transformer(num_columns, num_layers, d_model, num_heads, dff, dropout_rate, learning_rate):\n",
    "    # d_model: Embedding depth of the model.\n",
    "    # num_heads: Number of heads for Multi-head attention. d_model % num_heads = 0\n",
    "    # dff: Depth of the point wise feed-forward network\n",
    "    \n",
    "    inp = tf.keras.layers.Input(shape = (num_columns, ))\n",
    "    x = tf.keras.layers.Reshape((1, num_columns))(inp)\n",
    "    \n",
    "    x = TransformerEncoder(num_layers, d_model, num_heads, dff, dropout_rate)(x)[:, 0, :]\n",
    "            \n",
    "    out = tfa.layers.WeightNormalization(tf.keras.layers.Dense(206, activation = 'sigmoid'))(x)\n",
    "    \n",
    "    model = tf.keras.models.Model(inputs = inp, outputs = out)\n",
    "    \n",
    "    model.compile(optimizer = tfa.optimizers.Lookahead(tf.optimizers.Adam(learning_rate), sync_period = 10), \n",
    "                  loss = 'binary_crossentropy')\n",
    "    \n",
    "    return model"
   ]
  },
  {
   "cell_type": "markdown",
   "metadata": {
    "papermill": {
     "duration": 0.015504,
     "end_time": "2021-04-08T06:44:35.883457",
     "exception": false,
     "start_time": "2021-04-08T06:44:35.867953",
     "status": "completed"
    },
    "tags": []
   },
   "source": [
    "# Train Model"
   ]
  },
  {
   "cell_type": "code",
   "execution_count": 10,
   "metadata": {
    "execution": {
     "iopub.execute_input": "2021-04-08T06:44:35.930612Z",
     "iopub.status.busy": "2021-04-08T06:44:35.929900Z",
     "iopub.status.idle": "2021-04-08T07:21:03.148612Z",
     "shell.execute_reply": "2021-04-08T07:21:03.149174Z"
    },
    "id": "qiCub3F5vgTA",
    "outputId": "a409642d-80cd-4fdb-d21b-586422655f38",
    "papermill": {
     "duration": 2187.250346,
     "end_time": "2021-04-08T07:21:03.149360",
     "exception": false,
     "start_time": "2021-04-08T06:44:35.899014",
     "status": "completed"
    },
    "tags": []
   },
   "outputs": [
    {
     "name": "stdout",
     "output_type": "stream",
     "text": [
      "[02:23] Transformer: Seed 0, Fold 0: 0.015819130394037855\n",
      "[02:22] Transformer: Seed 0, Fold 1: 0.015792717676688325\n",
      "[02:14] Transformer: Seed 0, Fold 2: 0.015740498471066112\n",
      "[02:17] Transformer: Seed 0, Fold 3: 0.015826392333468196\n",
      "[02:23] Transformer: Seed 0, Fold 4: 0.015566123613364534\n",
      "[02:19] Transformer: Seed 1, Fold 0: 0.015727420644164082\n",
      "[02:26] Transformer: Seed 1, Fold 1: 0.0157092735417686\n",
      "[02:27] Transformer: Seed 1, Fold 2: 0.015704119687034765\n",
      "[02:31] Transformer: Seed 1, Fold 3: 0.015723208845577607\n",
      "[02:25] Transformer: Seed 1, Fold 4: 0.01564101665677647\n",
      "[02:15] Transformer: Seed 2, Fold 0: 0.015642292272609208\n",
      "[02:21] Transformer: Seed 2, Fold 1: 0.015700195654116105\n",
      "[02:22] Transformer: Seed 2, Fold 2: 0.015859273292385612\n",
      "[02:50] Transformer: Seed 2, Fold 3: 0.015765626329097632\n",
      "[02:34] Transformer: Seed 2, Fold 4: 0.01566845392634351\n"
     ]
    }
   ],
   "source": [
    "N_STARTS = 3\n",
    "N_SPLITS = 5\n",
    "\n",
    "res = train_targets.copy()\n",
    "ss.loc[:, train_targets.columns] = 0\n",
    "res.loc[:, train_targets.columns] = 0\n",
    "\n",
    "for seed in range(N_STARTS):\n",
    "    \n",
    "    for n, (tr, te) in enumerate(MultilabelStratifiedKFold(n_splits = N_SPLITS, random_state = seed, shuffle = True).split(train_targets, train_targets)):\n",
    "        \n",
    "        start_time = time()\n",
    "        x_tr, x_val = train.values[tr][:, top_feats], train.values[te][:, top_feats]\n",
    "        y_tr, y_val = train_targets.astype(float).values[tr], train_targets.astype(float).values[te]\n",
    "        x_tt = test_features.values[:, top_feats]\n",
    "        \n",
    "        scaler = StandardScaler()\n",
    "        x_tr = scaler.fit_transform(x_tr)\n",
    "        x_val = scaler.transform(x_val)\n",
    "        x_tt = scaler.transform(x_tt)\n",
    "        \n",
    "        if TYPE == 'LSTM':\n",
    "            \n",
    "            model = create_RNN(len(top_feats), [1024, 1024], 0.4, 1e-3)\n",
    "            \n",
    "        elif TYPE == 'Transformer':\n",
    "            \n",
    "            model = create_Transformer(len(top_feats), 3, 128, 8, 256, 0.4, 1e-3)\n",
    "        \n",
    "        rlr = ReduceLROnPlateau(monitor = 'val_loss', factor = 0.1, patience = 3, verbose = 0, \n",
    "                                min_delta = 1e-4, mode = 'min')\n",
    "        ckp = ModelCheckpoint(f'{TYPE}_{seed}_{n}.hdf5', monitor = 'val_loss', verbose = 0, \n",
    "                              save_best_only = True, save_weights_only = True, mode = 'min')\n",
    "        es = EarlyStopping(monitor = 'val_loss', min_delta = 1e-4, patience = 7, mode = 'min', \n",
    "                           baseline = None, restore_best_weights = True, verbose = 0)\n",
    "        \n",
    "        model.fit(x_tr, y_tr, validation_data = (x_val, y_val), epochs = 100, batch_size = 128,\n",
    "                  callbacks = [rlr, ckp, es], verbose = 0)\n",
    "        \n",
    "        model.load_weights(f'{TYPE}_{seed}_{n}.hdf5')\n",
    "        ss.loc[:, train_targets.columns] += model.predict(x_tt, batch_size = 128) / (N_SPLITS * N_STARTS)\n",
    "        fold_pred = model.predict(x_val, batch_size = 128)\n",
    "        res.loc[te, train_targets.columns] += fold_pred / N_STARTS\n",
    "        fold_score = log_loss_metric(train_targets.loc[te], fold_pred)\n",
    "        print(f'[{str(datetime.timedelta(seconds = time() - start_time))[2:7]}] {TYPE}: Seed {seed}, Fold {n}:', fold_score)\n",
    "        \n",
    "        K.clear_session()\n",
    "        del model, fold_pred, fold_score\n",
    "        x = gc.collect()"
   ]
  },
  {
   "cell_type": "code",
   "execution_count": 11,
   "metadata": {
    "execution": {
     "iopub.execute_input": "2021-04-08T07:21:03.195740Z",
     "iopub.status.busy": "2021-04-08T07:21:03.194977Z",
     "iopub.status.idle": "2021-04-08T07:21:05.204013Z",
     "shell.execute_reply": "2021-04-08T07:21:05.203264Z"
    },
    "id": "dgIrzdQZvgTC",
    "outputId": "a2ab66fb-1783-45aa-b1ef-6a6f719dce6a",
    "papermill": {
     "duration": 2.034979,
     "end_time": "2021-04-08T07:21:05.204177",
     "exception": false,
     "start_time": "2021-04-08T07:21:03.169198",
     "status": "completed"
    },
    "tags": []
   },
   "outputs": [
    {
     "name": "stdout",
     "output_type": "stream",
     "text": [
      "Transformer OOF Metric: 0.015406901389707536\n",
      "Transformer OOF Metric with postprocessing: 0.015399527014047896\n"
     ]
    }
   ],
   "source": [
    "print(f'{TYPE} OOF Metric: {log_loss_metric(train_targets, res.values)}')\n",
    "res.loc[train['cp_type'] == 1, train_targets.columns] = 0\n",
    "ss.loc[test['cp_type'] == 1, train_targets.columns] = 0\n",
    "print(f'{TYPE} OOF Metric with postprocessing: {log_loss_metric(train_targets, res.values)}')"
   ]
  },
  {
   "cell_type": "markdown",
   "metadata": {
    "id": "4i2yuxNCvgTV",
    "papermill": {
     "duration": 0.020922,
     "end_time": "2021-04-08T07:21:05.245661",
     "exception": false,
     "start_time": "2021-04-08T07:21:05.224739",
     "status": "completed"
    },
    "tags": []
   },
   "source": [
    "# Submit"
   ]
  },
  {
   "cell_type": "code",
   "execution_count": 12,
   "metadata": {
    "execution": {
     "iopub.execute_input": "2021-04-08T07:21:05.293304Z",
     "iopub.status.busy": "2021-04-08T07:21:05.292289Z",
     "iopub.status.idle": "2021-04-08T07:21:06.599066Z",
     "shell.execute_reply": "2021-04-08T07:21:06.598397Z"
    },
    "id": "fZG5AjqOvgTY",
    "papermill": {
     "duration": 1.331893,
     "end_time": "2021-04-08T07:21:06.599219",
     "exception": false,
     "start_time": "2021-04-08T07:21:05.267326",
     "status": "completed"
    },
    "tags": []
   },
   "outputs": [],
   "source": [
    "ss.to_csv('./submission.csv', index = False)"
   ]
  },
  {
   "cell_type": "markdown",
   "metadata": {},
   "source": [
    "![](MOA_LSTM.png)"
   ]
  },
  {
   "cell_type": "code",
   "execution_count": null,
   "metadata": {},
   "outputs": [],
   "source": []
  }
 ],
 "metadata": {
  "kernelspec": {
   "display_name": "Python 3",
   "language": "python",
   "name": "python3"
  },
  "language_info": {
   "codemirror_mode": {
    "name": "ipython",
    "version": 3
   },
   "file_extension": ".py",
   "mimetype": "text/x-python",
   "name": "python",
   "nbconvert_exporter": "python",
   "pygments_lexer": "ipython3",
   "version": "3.6.5"
  },
  "papermill": {
   "default_parameters": {},
   "duration": 2213.98129,
   "end_time": "2021-04-08T07:21:08.336345",
   "environment_variables": {},
   "exception": null,
   "input_path": "__notebook__.ipynb",
   "output_path": "__notebook__.ipynb",
   "parameters": {},
   "start_time": "2021-04-08T06:44:14.355055",
   "version": "2.3.2"
  }
 },
 "nbformat": 4,
 "nbformat_minor": 5
}
